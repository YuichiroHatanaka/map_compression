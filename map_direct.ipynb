{
 "cells": [
  {
   "cell_type": "code",
   "execution_count": 1,
   "id": "fe26976b",
   "metadata": {},
   "outputs": [],
   "source": [
    "from PIL import Image\n",
    "import numpy as np\n",
    "import cv2\n",
    "\n",
    "img = Image.open('a.pgm')\n",
    "\n",
    "width, height = img.size\n",
    "\n",
    "image_array = np.empty((height, width), dtype = int)\n",
    "\n",
    "for y in range(height):\n",
    "    for x in range(width):\n",
    "        image_array[y][x] = img.getpixel((x, y))"
   ]
  },
  {
   "cell_type": "code",
   "execution_count": 3,
   "id": "c2d09b57",
   "metadata": {},
   "outputs": [
    {
     "data": {
      "text/plain": [
       "True"
      ]
     },
     "execution_count": 3,
     "metadata": {},
     "output_type": "execute_result"
    }
   ],
   "source": [
    "m = 4000\n",
    "n = 4000\n",
    "z = 5\n",
    "\n",
    "x1 = int(m/z)\n",
    "y1 = int(n/z)\n",
    "e = np.amin(image_array.reshape(-1, z), axis=1).reshape(-1, x1).T\n",
    "i = np.amin(e.reshape(-1, z), axis=1).reshape(-1, y1).T\n",
    "\n",
    "cv2.imwrite('new.pgm',i)"
   ]
  }
 ],
 "metadata": {
  "kernelspec": {
   "display_name": "Python 3",
   "language": "python",
   "name": "python3"
  },
  "language_info": {
   "codemirror_mode": {
    "name": "ipython",
    "version": 3
   },
   "file_extension": ".py",
   "mimetype": "text/x-python",
   "name": "python",
   "nbconvert_exporter": "python",
   "pygments_lexer": "ipython3",
   "version": "3.8.8"
  }
 },
 "nbformat": 4,
 "nbformat_minor": 5
}
