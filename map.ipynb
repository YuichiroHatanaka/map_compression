{
 "cells": [
  {
   "cell_type": "markdown",
   "id": "f3acc50a",
   "metadata": {},
   "source": [
    "# マップ圧縮コード"
   ]
  },
  {
   "cell_type": "markdown",
   "id": "41513e57",
   "metadata": {},
   "source": [
    "## マップを入手\n",
    "\n",
    "https://labo-code.com/python/image-analysis/image-to-list/"
   ]
  },
  {
   "cell_type": "code",
   "execution_count": 1,
   "id": "776fd5a6",
   "metadata": {
    "scrolled": true
   },
   "outputs": [],
   "source": [
    "from PIL import Image\n",
    "import numpy as np\n",
    "import cv2\n",
    "\n",
    "img = Image.open('tsudanuma.pgm')\n",
    "\n",
    "width, height = img.size\n",
    "\n",
    "image_array = np.empty((height, width), dtype = int)\n",
    "\n",
    "for y in range(height):\n",
    "    for x in range(width):\n",
    "        image_array[y][x] = img.getpixel((x, y))"
   ]
  },
  {
   "cell_type": "markdown",
   "id": "c7db514a",
   "metadata": {},
   "source": [
    "## マップのサイズ入力"
   ]
  },
  {
   "cell_type": "code",
   "execution_count": 2,
   "id": "efcb63d9",
   "metadata": {},
   "outputs": [],
   "source": [
    "m = 6240\n",
    "n = 4000"
   ]
  },
  {
   "cell_type": "markdown",
   "id": "cc24018a",
   "metadata": {},
   "source": [
    "## 圧縮倍率を設定"
   ]
  },
  {
   "cell_type": "code",
   "execution_count": 3,
   "id": "7ad8bb00",
   "metadata": {},
   "outputs": [],
   "source": [
    "z = 40"
   ]
  },
  {
   "cell_type": "markdown",
   "id": "4319a536",
   "metadata": {},
   "source": [
    "## マップの行列を入手\n",
    "\n",
    "https://www.sejuku.net/blog/75248"
   ]
  },
  {
   "cell_type": "code",
   "execution_count": 4,
   "id": "71495934",
   "metadata": {},
   "outputs": [
    {
     "name": "stdout",
     "output_type": "stream",
     "text": [
      "[[205 205 205 ... 205 205 205]\n",
      " [205 205 205 ... 205 205 205]\n",
      " [205 205 205 ... 205 205 205]\n",
      " ...\n",
      " [205 205 205 ... 205 205 205]\n",
      " [205 205 205 ... 205 205 205]\n",
      " [205 205 205 ... 205 205 205]]\n"
     ]
    }
   ],
   "source": [
    "a = image_array\n",
    "print(a)"
   ]
  },
  {
   "cell_type": "markdown",
   "id": "54cafb1c",
   "metadata": {},
   "source": [
    "## z列の行列に変換\n",
    "\n",
    "https://note.nkmk.me/python-list-ndarray-1d-to-2d/"
   ]
  },
  {
   "cell_type": "code",
   "execution_count": 5,
   "id": "5db5babe",
   "metadata": {},
   "outputs": [
    {
     "name": "stdout",
     "output_type": "stream",
     "text": [
      "[[205 205 205 ... 205 205 205]\n",
      " [205 205 205 ... 205 205 205]\n",
      " [205 205 205 ... 205 205 205]\n",
      " ...\n",
      " [205 205 205 ... 205 205 205]\n",
      " [205 205 205 ... 205 205 205]\n",
      " [205 205 205 ... 205 205 205]]\n"
     ]
    }
   ],
   "source": [
    "b = a.reshape(-1, z)\n",
    "print(b)"
   ]
  },
  {
   "cell_type": "markdown",
   "id": "115a5323",
   "metadata": {},
   "source": [
    "## 行ごとの最小値を求める\n",
    "\n",
    "https://deepage.net/features/numpy-min.html"
   ]
  },
  {
   "cell_type": "code",
   "execution_count": 6,
   "id": "637404b4",
   "metadata": {},
   "outputs": [
    {
     "name": "stdout",
     "output_type": "stream",
     "text": [
      "[205 205 205 ... 205 205 205]\n"
     ]
    }
   ],
   "source": [
    "c = np.amin(b, axis=1)\n",
    "print(c)"
   ]
  },
  {
   "cell_type": "markdown",
   "id": "582b212e",
   "metadata": {},
   "source": [
    "## 列が1/zの形にする"
   ]
  },
  {
   "cell_type": "code",
   "execution_count": 7,
   "id": "8acc5a6f",
   "metadata": {},
   "outputs": [
    {
     "name": "stdout",
     "output_type": "stream",
     "text": [
      "[[205 205 205 ... 205 205 205]\n",
      " [205 205 205 ... 205 205 205]\n",
      " [205 205 205 ... 205 205 205]\n",
      " ...\n",
      " [205 205 205 ... 205 205 205]\n",
      " [205 205 205 ... 205 205 205]\n",
      " [205 205 205 ... 205 205 205]]\n"
     ]
    }
   ],
   "source": [
    "x1 = int(m/z)\n",
    "d = c.reshape(-1, x1)\n",
    "print(d)"
   ]
  },
  {
   "cell_type": "markdown",
   "id": "8c67ead3",
   "metadata": {},
   "source": [
    "## 転置する\n",
    "\n",
    "https://note.nkmk.me/python-numpy-transpose/"
   ]
  },
  {
   "cell_type": "code",
   "execution_count": 8,
   "id": "a497b982",
   "metadata": {},
   "outputs": [
    {
     "name": "stdout",
     "output_type": "stream",
     "text": [
      "[[205 205 205 ... 205 205 205]\n",
      " [205 205 205 ... 205 205 205]\n",
      " [205 205 205 ... 205 205 205]\n",
      " ...\n",
      " [205 205 205 ... 205 205 205]\n",
      " [205 205 205 ... 205 205 205]\n",
      " [205 205 205 ... 205 205 205]]\n"
     ]
    }
   ],
   "source": [
    "e = d.T\n",
    "print(e)"
   ]
  },
  {
   "cell_type": "markdown",
   "id": "7fb675db",
   "metadata": {},
   "source": [
    "## 繰り返し"
   ]
  },
  {
   "cell_type": "code",
   "execution_count": 9,
   "id": "71db8829",
   "metadata": {},
   "outputs": [
    {
     "name": "stdout",
     "output_type": "stream",
     "text": [
      "[[205 205 205 ... 205 205 205]\n",
      " [205 205 205 ... 205 205 205]\n",
      " [205 205 205 ... 205 205 205]\n",
      " ...\n",
      " [205 205 205 ... 205 205 205]\n",
      " [205 205 205 ... 205 205 205]\n",
      " [205 205 205 ... 205 205 205]]\n"
     ]
    }
   ],
   "source": [
    "f = e.reshape(-1, z)\n",
    "g = np.amin(f, axis=1)\n",
    "y1 = int(n/z)\n",
    "h = g.reshape(-1, y1)\n",
    "i = h.T\n",
    "print(i)"
   ]
  },
  {
   "cell_type": "markdown",
   "id": "4ef28f2f",
   "metadata": {},
   "source": [
    "## マップを保存する\n",
    "\n",
    "https://tomokichi.blog/%E3%80%90python%E3%80%91%E5%8A%A0%E5%B7%A5%E3%81%97%E3%81%9F%E7%94%BB%E5%83%8F%E3%82%92%E4%BF%9D%E5%AD%98%E3%81%97%E3%81%A6%E3%81%BF%E3%82%88%E3%81%86/"
   ]
  },
  {
   "cell_type": "code",
   "execution_count": 10,
   "id": "d9fbc15e",
   "metadata": {},
   "outputs": [
    {
     "data": {
      "text/plain": [
       "True"
      ]
     },
     "execution_count": 10,
     "metadata": {},
     "output_type": "execute_result"
    }
   ],
   "source": [
    "cv2.imwrite('new.pgm',i)"
   ]
  }
 ],
 "metadata": {
  "language_info": {
   "codemirror_mode": {
    "name": "ipython",
    "version": 3
   },
   "file_extension": ".py",
   "mimetype": "text/x-python",
   "name": "python",
   "nbconvert_exporter": "python",
   "pygments_lexer": "ipython3",
   "version": "3.8.8"
  }
 },
 "nbformat": 4,
 "nbformat_minor": 5
}
